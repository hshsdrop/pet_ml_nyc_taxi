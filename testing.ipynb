{
 "cells": [
  {
   "cell_type": "code",
   "execution_count": null,
   "metadata": {},
   "outputs": [],
   "source": [
    "from models.train_kmeans import train_kmeans\n",
    "import pandas as pd\n",
    "\n",
    "df = pd.read_csv('train.csv')\n",
    "\n",
    "train_kmeans(df)"
   ]
  },
  {
   "cell_type": "code",
   "execution_count": 15,
   "metadata": {},
   "outputs": [],
   "source": [
    "# from config.import_config import import_config\n",
    "# cfg = import_config('config/params.yaml')\n",
    "# cfg\n",
    "\n",
    "# import pickle\n",
    "# with open('models/kmeans.pkl', 'rb') as f:\n",
    "#     data = pickle.load(f)\n",
    "\n",
    "# print(data)"
   ]
  },
  {
   "cell_type": "code",
   "execution_count": 1,
   "metadata": {},
   "outputs": [
    {
     "data": {
      "text/html": [
       "<div>\n",
       "<style scoped>\n",
       "    .dataframe tbody tr th:only-of-type {\n",
       "        vertical-align: middle;\n",
       "    }\n",
       "\n",
       "    .dataframe tbody tr th {\n",
       "        vertical-align: top;\n",
       "    }\n",
       "\n",
       "    .dataframe thead th {\n",
       "        text-align: right;\n",
       "    }\n",
       "</style>\n",
       "<table border=\"1\" class=\"dataframe\">\n",
       "  <thead>\n",
       "    <tr style=\"text-align: right;\">\n",
       "      <th></th>\n",
       "      <th>pickup_longitude</th>\n",
       "      <th>pickup_latitude</th>\n",
       "      <th>dropoff_longitude</th>\n",
       "      <th>dropoff_latitude</th>\n",
       "      <th>trip_duration</th>\n",
       "      <th>pickup_datetime</th>\n",
       "      <th>passenger_count</th>\n",
       "    </tr>\n",
       "  </thead>\n",
       "  <tbody>\n",
       "    <tr>\n",
       "      <th>377764</th>\n",
       "      <td>-73.968300</td>\n",
       "      <td>40.786865</td>\n",
       "      <td>-73.976082</td>\n",
       "      <td>40.788212</td>\n",
       "      <td>196</td>\n",
       "      <td>2016-02-27 15:38:45</td>\n",
       "      <td>1</td>\n",
       "    </tr>\n",
       "    <tr>\n",
       "      <th>311456</th>\n",
       "      <td>-73.971634</td>\n",
       "      <td>40.754162</td>\n",
       "      <td>-73.963852</td>\n",
       "      <td>40.770973</td>\n",
       "      <td>493</td>\n",
       "      <td>2016-02-21 16:34:41</td>\n",
       "      <td>1</td>\n",
       "    </tr>\n",
       "    <tr>\n",
       "      <th>527996</th>\n",
       "      <td>-73.975098</td>\n",
       "      <td>40.750977</td>\n",
       "      <td>-73.984489</td>\n",
       "      <td>40.732918</td>\n",
       "      <td>512</td>\n",
       "      <td>2016-06-25 23:38:38</td>\n",
       "      <td>1</td>\n",
       "    </tr>\n",
       "    <tr>\n",
       "      <th>126031</th>\n",
       "      <td>-73.955994</td>\n",
       "      <td>40.779640</td>\n",
       "      <td>-73.988762</td>\n",
       "      <td>40.744751</td>\n",
       "      <td>1749</td>\n",
       "      <td>2016-06-10 09:42:13</td>\n",
       "      <td>1</td>\n",
       "    </tr>\n",
       "    <tr>\n",
       "      <th>133158</th>\n",
       "      <td>-73.983482</td>\n",
       "      <td>40.761623</td>\n",
       "      <td>-73.990219</td>\n",
       "      <td>40.751530</td>\n",
       "      <td>508</td>\n",
       "      <td>2016-05-31 14:00:05</td>\n",
       "      <td>2</td>\n",
       "    </tr>\n",
       "  </tbody>\n",
       "</table>\n",
       "</div>"
      ],
      "text/plain": [
       "        pickup_longitude  pickup_latitude  dropoff_longitude  \\\n",
       "377764        -73.968300        40.786865         -73.976082   \n",
       "311456        -73.971634        40.754162         -73.963852   \n",
       "527996        -73.975098        40.750977         -73.984489   \n",
       "126031        -73.955994        40.779640         -73.988762   \n",
       "133158        -73.983482        40.761623         -73.990219   \n",
       "\n",
       "        dropoff_latitude  trip_duration      pickup_datetime  passenger_count  \n",
       "377764         40.788212            196  2016-02-27 15:38:45                1  \n",
       "311456         40.770973            493  2016-02-21 16:34:41                1  \n",
       "527996         40.732918            512  2016-06-25 23:38:38                1  \n",
       "126031         40.744751           1749  2016-06-10 09:42:13                1  \n",
       "133158         40.751530            508  2016-05-31 14:00:05                2  "
      ]
     },
     "execution_count": 1,
     "metadata": {},
     "output_type": "execute_result"
    }
   ],
   "source": [
    "from preprocessing import get_data, add_features, clean_data\n",
    "from config.import_config import import_config\n",
    "from models.train_kmeans import train_kmeans\n",
    "import pandas as pd\n",
    "\n",
    "df = get_data('train.csv')\n",
    "df = clean_data(df)\n",
    "df.sample(5)\n",
    "\n",
    "# model = train_kmeans(df)\n",
    "# df.shape"
   ]
  },
  {
   "cell_type": "code",
   "execution_count": 2,
   "metadata": {},
   "outputs": [
    {
     "data": {
      "text/plain": [
       "array([[-73.98927483,  40.72701684],\n",
       "       [-73.96988638,  40.76019288],\n",
       "       [-73.97266835,  40.78992731],\n",
       "       [-74.00098135,  40.73891419],\n",
       "       [-73.98064079,  40.74583554],\n",
       "       [-73.94735071,  40.81325291],\n",
       "       [-73.98305348,  40.76858707],\n",
       "       [-74.0085924 ,  40.71414211],\n",
       "       [-73.99164104,  40.7541143 ],\n",
       "       [-73.95523679,  40.77618726]])"
      ]
     },
     "execution_count": 2,
     "metadata": {},
     "output_type": "execute_result"
    }
   ],
   "source": [
    "# with cleaning\n",
    "model.cluster_centers_"
   ]
  },
  {
   "cell_type": "code",
   "execution_count": null,
   "metadata": {},
   "outputs": [],
   "source": [
    "# without cleaning\n",
    "model.cluster_centers_"
   ]
  },
  {
   "cell_type": "code",
   "execution_count": 45,
   "metadata": {},
   "outputs": [
    {
     "ename": "ModuleNotFoundError",
     "evalue": "No module named 'numpy._core'",
     "output_type": "error",
     "traceback": [
      "\u001b[1;31m---------------------------------------------------------------------------\u001b[0m",
      "\u001b[1;31mModuleNotFoundError\u001b[0m                       Traceback (most recent call last)",
      "Cell \u001b[1;32mIn[45], line 5\u001b[0m\n\u001b[0;32m      3\u001b[0m \u001b[38;5;66;03m# checking file .pkl\u001b[39;00m\n\u001b[0;32m      4\u001b[0m \u001b[38;5;28;01mwith\u001b[39;00m \u001b[38;5;28mopen\u001b[39m(\u001b[38;5;124m'\u001b[39m\u001b[38;5;124mmodels/kmeans.pkl\u001b[39m\u001b[38;5;124m'\u001b[39m, \u001b[38;5;124m'\u001b[39m\u001b[38;5;124mrb\u001b[39m\u001b[38;5;124m'\u001b[39m) \u001b[38;5;28;01mas\u001b[39;00m f:\n\u001b[1;32m----> 5\u001b[0m     model_file \u001b[38;5;241m=\u001b[39m pickle\u001b[38;5;241m.\u001b[39mload(f)\n\u001b[0;32m      7\u001b[0m model_file\u001b[38;5;241m.\u001b[39mcluster_centers_\n",
      "\u001b[1;31mModuleNotFoundError\u001b[0m: No module named 'numpy._core'"
     ]
    }
   ],
   "source": [
    "\n",
    "import pickle\n",
    "\n",
    "# checking file .pkl\n",
    "with open('models/kmeans.pkl', 'rb') as f:\n",
    "    model_file = pickle.load(f)\n",
    "\n",
    "model_file.cluster_centers_"
   ]
  },
  {
   "cell_type": "code",
   "execution_count": null,
   "metadata": {},
   "outputs": [],
   "source": [
    "df = add_features(df, path_kmeans='models/kmeans.pkl')\n",
    "df.shape"
   ]
  },
  {
   "cell_type": "code",
   "execution_count": null,
   "metadata": {},
   "outputs": [],
   "source": [
    "df.head()"
   ]
  },
  {
   "cell_type": "code",
   "execution_count": 62,
   "metadata": {},
   "outputs": [],
   "source": [
    "import osmnx as ox\n",
    "import networkx as nx\n",
    "\n",
    "place = 'Manhattan, New York, United States'\n",
    "start_coords = (-73.980000, 40.765990)\n",
    "end_coords = (-73.990000, 40.770000)\n",
    "mode = 'drive'\n",
    "optimizer = 'length'\n",
    "\n",
    "graph = ox.graph_from_place(place, network_type = mode)\n",
    "orig_node = ox.distance.nearest_nodes(graph, *start_coords)\n",
    "dest_node = ox.distance.nearest_nodes(graph, *end_coords)\n",
    "shortest_route = nx.shortest_path(graph, source=orig_node, target=dest_node, weight=optimizer)\n",
    "# gdf_edges = ox.graph_to_gdfs(graph, nodes=False).reset_index()\n",
    "# shortest_route_map = gdf_edges[gdf_edges['u'].isin(shortest_route[:-1]) & gdf_edges['v'].isin(shortest_route[1:])]"
   ]
  },
  {
   "cell_type": "code",
   "execution_count": 71,
   "metadata": {},
   "outputs": [
    {
     "data": {
      "text/plain": [
       "list"
      ]
     },
     "execution_count": 71,
     "metadata": {},
     "output_type": "execute_result"
    }
   ],
   "source": [
    "# gdf_edges['u']\n",
    "type(shortest_route)"
   ]
  },
  {
   "cell_type": "code",
   "execution_count": 64,
   "metadata": {},
   "outputs": [],
   "source": [
    "# gdf_edges[gdf_edges['u'].isin(shortest_route[:-1]) & gdf_edges['v'].isin(shortest_route[1:])].explore()"
   ]
  },
  {
   "cell_type": "code",
   "execution_count": 84,
   "metadata": {},
   "outputs": [
    {
     "name": "stdout",
     "output_type": "stream",
     "text": [
      "               u          v  key       osmid       name   highway maxspeed  \\\n",
      "8975  4145735059  205020852    0  1080964113  FDR Drive  motorway   30 mph   \n",
      "\n",
      "      oneway reversed  length lanes  ref access bridge tunnel width junction  \\\n",
      "8975    True        0  26.725     3  FDR   None   None   None  None     None   \n",
      "\n",
      "                                               geometry  \n",
      "8975  LINESTRING (-74.00988 40.70191, -74.00977 40.7...  \n"
     ]
    },
    {
     "ename": "AttributeError",
     "evalue": "'NoneType' object has no attribute 'explore'",
     "output_type": "error",
     "traceback": [
      "\u001b[1;31m---------------------------------------------------------------------------\u001b[0m",
      "\u001b[1;31mAttributeError\u001b[0m                            Traceback (most recent call last)",
      "Cell \u001b[1;32mIn[84], line 23\u001b[0m\n\u001b[0;32m      6\u001b[0m \u001b[38;5;66;03m# place = 'Manhattan, New York, United States'\u001b[39;00m\n\u001b[0;32m      7\u001b[0m \u001b[38;5;66;03m# start_coords = (-73.980000, 40.765990)\u001b[39;00m\n\u001b[0;32m      8\u001b[0m \u001b[38;5;66;03m# end_coords = (-73.990000, 40.770000)\u001b[39;00m\n\u001b[1;32m   (...)\u001b[0m\n\u001b[0;32m     20\u001b[0m \n\u001b[0;32m     21\u001b[0m \u001b[38;5;66;03m# shortest_route=[4145735059]\u001b[39;00m\n\u001b[0;32m     22\u001b[0m df \u001b[38;5;241m=\u001b[39m geopandas\u001b[38;5;241m.\u001b[39mread_file(filename\u001b[38;5;241m=\u001b[39m\u001b[38;5;124m'\u001b[39m\u001b[38;5;124mroute_info.json\u001b[39m\u001b[38;5;124m'\u001b[39m, engine\u001b[38;5;241m=\u001b[39m\u001b[38;5;124m'\u001b[39m\u001b[38;5;124mpyogrio\u001b[39m\u001b[38;5;124m'\u001b[39m)\n\u001b[1;32m---> 23\u001b[0m \u001b[38;5;28;43mprint\u001b[39;49m\u001b[43m(\u001b[49m\u001b[43mdf\u001b[49m\u001b[43m[\u001b[49m\u001b[43mdf\u001b[49m\u001b[43m[\u001b[49m\u001b[38;5;124;43m'\u001b[39;49m\u001b[38;5;124;43mu\u001b[39;49m\u001b[38;5;124;43m'\u001b[39;49m\u001b[43m]\u001b[49m\u001b[43m \u001b[49m\u001b[38;5;241;43m==\u001b[39;49m\u001b[43m \u001b[49m\u001b[38;5;241;43m4145735059\u001b[39;49m\u001b[43m]\u001b[49m\u001b[43m)\u001b[49m\u001b[38;5;241;43m.\u001b[39;49m\u001b[43mexplore\u001b[49m()\n\u001b[0;32m     24\u001b[0m \u001b[38;5;66;03m# df[df['u'].isin(shortest_route[:-1]) & df['v'].isin(shortest_route[1:])].explore()\u001b[39;00m\n\u001b[0;32m     25\u001b[0m \n\u001b[0;32m     26\u001b[0m \u001b[38;5;66;03m# print(f'\\nstart_coords_in_br: {start_coords}')\u001b[39;00m\n\u001b[1;32m   (...)\u001b[0m\n\u001b[0;32m     31\u001b[0m \n\u001b[0;32m     32\u001b[0m \u001b[38;5;66;03m# *start_coords\u001b[39;00m\n",
      "\u001b[1;31mAttributeError\u001b[0m: 'NoneType' object has no attribute 'explore'"
     ]
    }
   ],
   "source": [
    "import pandas as pd\n",
    "import osmnx as ox\n",
    "import networkx as nx\n",
    "import geopandas\n",
    "\n",
    "# place = 'Manhattan, New York, United States'\n",
    "# start_coords = (-73.980000, 40.765990)\n",
    "# end_coords = (-73.990000, 40.770000)\n",
    "# mode = 'drive'\n",
    "# optimizer = 'length'\n",
    "\n",
    "# graph = ox.graph_from_place(place, network_type = mode)\n",
    "# orig_node = ox.distance.nearest_nodes(graph, *start_coords)\n",
    "# dest_node = ox.distance.nearest_nodes(graph, *end_coords)\n",
    "# shortest_route = nx.shortest_path(graph, source=orig_node, target=dest_node, weight=optimizer)\n",
    "\n",
    "# orig_node = 4145735059\n",
    "# dest_node = 4145735059\n",
    "# shortest_route = [4145735059]\n",
    "\n",
    "# shortest_route=[4145735059]\n",
    "df = geopandas.read_file(filename='route_info.json', engine='pyogrio')\n",
    "print(df[df['u'] == 4145735059]).explore()\n",
    "# df[df['u'].isin(shortest_route[:-1]) & df['v'].isin(shortest_route[1:])].explore()\n",
    "\n",
    "# print(f'\\nstart_coords_in_br: {start_coords}')\n",
    "# print(f'end_coords_in_br: {end_coords}\\n')\n",
    "# print(f'\\norig_node: {orig_node}\\n')\n",
    "# print(f'dest_node: {dest_node}\\n')\n",
    "# print(f'shortest_route: {shortest_route}\\n')\n",
    "\n",
    "# *start_coords"
   ]
  },
  {
   "cell_type": "code",
   "execution_count": 105,
   "metadata": {},
   "outputs": [],
   "source": [
    "from geopy.geocoders import Nominatim\n",
    "import streamlit as st\n",
    "\n",
    "# pickup_address = st.sidebar.text_input('Pickup Address', 'Empire State Building')\n",
    "# dropoff_address = st.sidebar.text_input('Dropoff Address', 'Museum of the NYC')\n",
    "pickup_address = 'Empire State Building'\n",
    "dropoff_address = 'Columbia University'\n",
    "loc = Nominatim(user_agent=\"GetLoc\")\n",
    "getloc_start = loc.geocode(pickup_address)\n",
    "getloc_end = loc.geocode(dropoff_address)\n",
    "pickup_latitude = getloc_start[1][0] # latitude\n",
    "pickup_longitude = getloc_start[1][1] # longitude\n",
    "dropoff_latitude = getloc_end[1][0] # latitude\n",
    "dropoff_longitude = getloc_end[1][1] # longitude"
   ]
  },
  {
   "cell_type": "code",
   "execution_count": 106,
   "metadata": {},
   "outputs": [
    {
     "data": {
      "text/plain": [
       "'2024-10-10 12:02:33'"
      ]
     },
     "execution_count": 106,
     "metadata": {},
     "output_type": "execute_result"
    }
   ],
   "source": [
    "from datetime import datetime\n",
    "import pytz\n",
    "\n",
    "datetime.now(pytz.timezone('US/Eastern')).strftime(\"%Y-%m-%d %H:%M:%S\")"
   ]
  }
 ],
 "metadata": {
  "kernelspec": {
   "display_name": ".venv",
   "language": "python",
   "name": "python3"
  },
  "language_info": {
   "codemirror_mode": {
    "name": "ipython",
    "version": 3
   },
   "file_extension": ".py",
   "mimetype": "text/x-python",
   "name": "python",
   "nbconvert_exporter": "python",
   "pygments_lexer": "ipython3",
   "version": "3.8.0"
  }
 },
 "nbformat": 4,
 "nbformat_minor": 2
}
